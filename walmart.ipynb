{
  "nbformat": 4,
  "nbformat_minor": 0,
  "metadata": {
    "colab": {
      "provenance": []
    },
    "kernelspec": {
      "name": "python3",
      "display_name": "Python 3"
    },
    "language_info": {
      "name": "python"
    }
  },
  "cells": [
    {
      "cell_type": "code",
      "execution_count": 1,
      "metadata": {
        "id": "A6Q701KCMYox",
        "colab": {
          "base_uri": "https://localhost:8080/"
        },
        "outputId": "20984a11-0c6f-48f1-d5e1-0ce79b53105c"
      },
      "outputs": [
        {
          "output_type": "stream",
          "name": "stdout",
          "text": [
            "Requirement already satisfied: pyspark in /usr/local/lib/python3.10/dist-packages (3.5.1)\n",
            "Requirement already satisfied: py4j==0.10.9.7 in /usr/local/lib/python3.10/dist-packages (from pyspark) (0.10.9.7)\n"
          ]
        }
      ],
      "source": [
        "pip install pyspark"
      ]
    },
    {
      "cell_type": "code",
      "source": [
        "#Reading customers dataset"
      ],
      "metadata": {
        "id": "G4RFAocnNXb4"
      },
      "execution_count": 2,
      "outputs": []
    },
    {
      "cell_type": "code",
      "source": [
        "from pyspark.sql import SparkSession\n",
        "\n",
        "spark = SparkSession.builder.appName(\"CSVReader\").getOrCreate()\n",
        "\n",
        "df = spark.read.format(\"csv\").option(\"header\", True).option(\"delimiter\", \",\").load(\"/content/drive/MyDrive/Datasets/customers.csv\")\n",
        "\n",
        "df.show(5)\n",
        "\n",
        "spark.stop()"
      ],
      "metadata": {
        "colab": {
          "base_uri": "https://localhost:8080/"
        },
        "id": "1hvuUtF4WIra",
        "outputId": "178067bc-c0c6-4780-a974-12f3c5564c48"
      },
      "execution_count": 3,
      "outputs": [
        {
          "output_type": "stream",
          "name": "stdout",
          "text": [
            "+-----------+--------------+---------+-----+-------+\n",
            "|Customer_Id|          Name|     City|State|Zipcode|\n",
            "+-----------+--------------+---------+-----+-------+\n",
            "|      11039|   Mary Torres|   Caguas|   PR|    725|\n",
            "|       5623|    Jose Haley| Columbus|   OH|  43207|\n",
            "|       5829|    Mary Smith|  Houston|   TX|  77015|\n",
            "|       6336|Richard Maddox|   Caguas|   PR|    725|\n",
            "|       1708|Margaret Booth|Arlington|   TX|  76010|\n",
            "+-----------+--------------+---------+-----+-------+\n",
            "only showing top 5 rows\n",
            "\n"
          ]
        }
      ]
    },
    {
      "cell_type": "code",
      "source": [
        "#Reading sales transaction dataset"
      ],
      "metadata": {
        "id": "UT50S0C9XrR1"
      },
      "execution_count": 4,
      "outputs": []
    },
    {
      "cell_type": "code",
      "source": [
        "from pyspark.sql import SparkSession\n",
        "\n",
        "spark = SparkSession.builder.appName(\"CSVReader\").getOrCreate()\n",
        "\n",
        "df = spark.read.format(\"csv\").option(\"header\", True).option(\"delimiter\", \",\").load(\"/content/drive/MyDrive/Datasets/salestxns.csv\")\n",
        "\n",
        "df.show(5)\n",
        "\n",
        "spark.stop()"
      ],
      "metadata": {
        "id": "_p-JzcCeXrUh",
        "colab": {
          "base_uri": "https://localhost:8080/"
        },
        "outputId": "b8ee467e-fb8e-4988-8f69-ab11a667bcfe"
      },
      "execution_count": 5,
      "outputs": [
        {
          "output_type": "stream",
          "name": "stdout",
          "text": [
            "+------------+-----------+----------------+----------+--------------------+------+---+-----------+\n",
            "|Sales_Txn_Id|Category_Id|   Category_Name|Product_Id|        Product_Name| Price|Qty|Customer_Id|\n",
            "+------------+-----------+----------------+----------+--------------------+------+---+-----------+\n",
            "|           1|         43|Camping & Hiking|       957|Diamondback Women...|299.98|  1|      11599|\n",
            "|           2|         48|    Water Sports|      1073|Pelican Sunstream...|199.99|  1|        256|\n",
            "|           3|         24| Women's Apparel|       502|Nike Men's Dri-FI...|    50|  5|        256|\n",
            "|           4|         18|  Men's Footwear|       403|Nike Men's CJ Eli...|129.99|  1|        256|\n",
            "|           5|         40|     Accessories|       897|Team Golf New Eng...| 24.99|  2|       8827|\n",
            "+------------+-----------+----------------+----------+--------------------+------+---+-----------+\n",
            "only showing top 5 rows\n",
            "\n"
          ]
        }
      ]
    },
    {
      "cell_type": "code",
      "source": [
        "from pyspark.sql import SparkSession\n",
        "from pyspark.sql.functions import col,sum,avg\n",
        "import pandas as pd\n",
        "\n",
        "# Initialize Spark session\n",
        "spark = SparkSession.builder.appName(\"CustomerSalesAggregation\").getOrCreate()\n",
        "\n",
        "# Load Customer Data\n",
        "df = spark.read.format(\"csv\").option(\"header\", True).load(\"/content/drive/MyDrive/Datasets/customers.csv\")\n",
        "\n",
        "# Collect the relevant customer data into a Python list and broadcast it\n",
        "broadcast_customer_data = spark.sparkContext.broadcast(\n",
        "    df.select(\"Customer_Id\", \"Name\").collect()\n",
        ")\n",
        "\n",
        "# Load Sales Transaction Data\n",
        "sales_df = spark.read.format(\"csv\").option(\"header\", True).load(\"/content/drive/MyDrive/Datasets/salestxns.csv\")\n",
        "\n",
        "# Join Sales Transaction Data with Broadcasted Customer Data\n",
        "joined_df = sales_df.join(\n",
        "    spark.createDataFrame(broadcast_customer_data.value, schema=[\"Customer_Id\", \"Name\"]),\n",
        "    \"Customer_Id\"\n",
        ")\n",
        "\n",
        "# Perform Aggregations\n",
        "aggregated_df = joined_df.groupBy(\"Customer_Id\", \"Name\", \"Product_Id\", \"Product_Name\", \"Price\") \\\n",
        "    .agg(\n",
        "        sum(\"Qty\").alias(\"Total_Quantity\"),\n",
        "        sum(col(\"Qty\") * col(\"Price\")).alias(\"Total_Amount_Paid\")\n",
        "    )\n",
        "\n",
        "# Display the Result\n",
        "aggregated_df.show(truncate=False)\n",
        "\n",
        "print('Top Customers by Total Amount Paid')\n",
        "top_customers = aggregated_df.groupBy(\"Customer_Id\", \"Name\").agg(sum(\"Total_Amount_Paid\").alias(\"Total_Amount_Paid\"))\n",
        "top_customers = top_customers.orderBy(col(\"Total_Amount_Paid\").desc())\n",
        "top_customers.show()\n",
        "\n",
        "print('Product Analysis')\n",
        "product_sales = aggregated_df.groupBy(\"Product_Id\", \"Product_Name\").agg(\n",
        "    sum(\"Total_Quantity\").alias(\"Total_Quantity\"),\n",
        "    sum(\"Total_Amount_Paid\").alias(\"Total_Amount_Paid\")\n",
        ")\n",
        "product_sales = product_sales.orderBy(col(\"Total_Quantity\").desc())\n",
        "product_sales.show()\n",
        "\n",
        "print('Average Transaction Value')\n",
        "avg_transaction_value = aggregated_df.groupBy(\"Customer_Id\", \"Name\").agg(\n",
        "    avg(\"Total_Amount_Paid\").alias(\"Average_Transaction_Value\")\n",
        ")\n",
        "avg_transaction_value = avg_transaction_value.orderBy(col(\"Average_Transaction_Value\").desc())\n",
        "avg_transaction_value.show()\n",
        "\n",
        "# Stop Spark Session\n",
        "spark.stop()"
      ],
      "metadata": {
        "colab": {
          "base_uri": "https://localhost:8080/"
        },
        "id": "UH-ZCTkbRQ0O",
        "outputId": "66977018-230f-49a9-bfcd-8a39d5084452"
      },
      "execution_count": 6,
      "outputs": [
        {
          "output_type": "stream",
          "name": "stdout",
          "text": [
            "+-----------+----------------+----------+---------------------------------------------+------+--------------+------------------+\n",
            "|Customer_Id|Name            |Product_Id|Product_Name                                 |Price |Total_Quantity|Total_Amount_Paid |\n",
            "+-----------+----------------+----------+---------------------------------------------+------+--------------+------------------+\n",
            "|9285       |Gloria Smith    |235       |Under Armour Hustle Storm Medium Duffle Bag  |34.99 |5.0           |174.95000000000002|\n",
            "|8582       |Edward Smith    |403       |Nike Men's CJ Elite 2 TD Football Cleat      |129.99|1.0           |129.99            |\n",
            "|9119       |Mary Smith      |1014      |O'Brien Men's Neoprene Life Vest             |49.98 |3.0           |149.94            |\n",
            "|1598       |Mary Green      |403       |Nike Men's CJ Elite 2 TD Football Cleat      |129.99|4.0           |519.96            |\n",
            "|10447      |Mary Smith      |502       |Nike Men's Dri-FIT Victory Golf Polo         |50    |27.0          |1350.0            |\n",
            "|2420       |Mary Smith      |1004      |Field & Stream Sportsman 16 Gun Fire Safe    |399.98|3.0           |1199.94           |\n",
            "|7544       |Barbara Smith   |677       |TaylorMade White Smoke IN-12 Putter          |99.99 |1.0           |99.99             |\n",
            "|8757       |Tyler Gutierrez |627       |Under Armour Girls' Toddler Spine Surge Runni|39.99 |7.0           |279.93            |\n",
            "|4539       |Jacqueline James|37        |adidas Kids' F5 Messi FG Soccer Cleat        |34.99 |1.0           |34.99             |\n",
            "|5046       |Mary Smith      |1014      |O'Brien Men's Neoprene Life Vest             |49.98 |1.0           |49.98             |\n",
            "|11526      |Dorothy Crawford|365       |Perfect Fitness Perfect Rip Deck             |59.99 |10.0          |599.9             |\n",
            "|11845      |Mary Weaver     |1014      |O'Brien Men's Neoprene Life Vest             |49.98 |4.0           |199.92            |\n",
            "|11385      |Mary Stewart    |1004      |Field & Stream Sportsman 16 Gun Fire Safe    |399.98|1.0           |399.98            |\n",
            "|10233      |Mary Bennett    |957       |Diamondback Women's Serene Classic Comfort Bi|299.98|1.0           |299.98            |\n",
            "|10224      |Betty Lawson    |957       |Diamondback Women's Serene Classic Comfort Bi|299.98|1.0           |299.98            |\n",
            "|1518       |Jessica Smith   |191       |Nike Men's Free 5.0+ Running Shoe            |99.99 |14.0          |1399.86           |\n",
            "|10924      |Steven Smith    |957       |Diamondback Women's Serene Classic Comfort Bi|299.98|1.0           |299.98            |\n",
            "|12068      |Mary Smith      |957       |Diamondback Women's Serene Classic Comfort Bi|299.98|1.0           |299.98            |\n",
            "|8408       |Patrick Smith   |1073      |Pelican Sunstream 100 Kayak                  |199.99|2.0           |399.98            |\n",
            "|10508      |Angela Meadows  |502       |Nike Men's Dri-FIT Victory Golf Polo         |50    |10.0          |500.0             |\n",
            "+-----------+----------------+----------+---------------------------------------------+------+--------------+------------------+\n",
            "only showing top 20 rows\n",
            "\n",
            "Top Customers by Total Amount Paid\n",
            "+-----------+-----------------+------------------+\n",
            "|Customer_Id|             Name| Total_Amount_Paid|\n",
            "+-----------+-----------------+------------------+\n",
            "|       9371|   Mary Patterson|           9299.03|\n",
            "|        664|    Bobby Jimenez|           8394.26|\n",
            "|      12431|        Mary Rios| 8073.149999999999|\n",
            "|      10591| Deborah Humphrey| 7889.049999999999|\n",
            "|       9271|Christopher Smith| 7665.250000000001|\n",
            "|        749|   Jesse Matthews| 7649.379999999999|\n",
            "|      10371|     Joseph Smith| 7518.129999999999|\n",
            "|      11888|    Frank Barrett|7344.1399999999985|\n",
            "|      10744|   Samantha Smith| 7284.400000000001|\n",
            "|       5293|Michelle Callahan| 7209.100000000001|\n",
            "|       9580|     Mary Robbins|           7109.17|\n",
            "|       1780|      Larry Sharp|           7071.28|\n",
            "|       6285|      Mary Garcia| 7017.970000000001|\n",
            "|        467|      James Smith|            6992.3|\n",
            "|       9490|       Mary Glass| 6984.239999999999|\n",
            "|       7954|   Danielle Smith|6939.1900000000005|\n",
            "|      10175|   Michael Gibson|           6799.16|\n",
            "|       5001|       Ann Waller| 6769.469999999999|\n",
            "|       4491|       Mary Banks|           6719.38|\n",
            "|       4539| Jacqueline James| 6632.200000000001|\n",
            "+-----------+-----------------+------------------+\n",
            "only showing top 20 rows\n",
            "\n",
            "Product Analysis\n",
            "+----------+--------------------+--------------+------------------+\n",
            "|Product_Id|        Product_Name|Total_Quantity| Total_Amount_Paid|\n",
            "+----------+--------------------+--------------+------------------+\n",
            "|       365|Perfect Fitness P...|        7474.0|448365.25999999925|\n",
            "|       502|Nike Men's Dri-FI...|        6405.0|          320250.0|\n",
            "|      1014|O'Brien Men's Neo...|        5899.0|294832.02000000054|\n",
            "|       191|Nike Men's Free 5...|        3698.0|369763.01999999915|\n",
            "|       627|Under Armour Girl...|        3057.0|122249.43000000008|\n",
            "|       403|Nike Men's CJ Eli...|        2305.0| 299626.9499999993|\n",
            "|      1004|Field & Stream Sp...|        1755.0| 701964.8999999944|\n",
            "|      1073|Pelican Sunstream...|        1555.0|310984.44999999827|\n",
            "|       957|Diamondback Women...|        1344.0|         403173.12|\n",
            "|       565|adidas Youth Germ...|         129.0|            9030.0|\n",
            "|       249|Under Armour Wome...|         120.0|6596.4000000000015|\n",
            "|       276|Under Armour Wome...|         120.0| 3838.799999999998|\n",
            "|       828|Bridgestone e6 St...|         114.0|3646.8599999999997|\n",
            "|       771|Clicgear Rovic Co...|         114.0| 4558.859999999999|\n",
            "|       116|Nike Men's Comfor...|         110.0| 4948.899999999999|\n",
            "|       572|TYR Boys' Team Di...|         110.0| 4398.899999999998|\n",
            "|       775|Clicgear 8.0 Shoe...|         110.0|1098.9000000000005|\n",
            "|       926|Glove It Imperial...|         109.0|1742.9100000000005|\n",
            "|       235|Under Armour Hust...|         107.0|3743.9299999999976|\n",
            "|       282|Under Armour Wome...|         107.0| 3422.929999999999|\n",
            "+----------+--------------------+--------------+------------------+\n",
            "only showing top 20 rows\n",
            "\n",
            "Average Transaction Value\n",
            "+-----------+-----------------+-------------------------+\n",
            "|Customer_Id|             Name|Average_Transaction_Value|\n",
            "+-----------+-----------------+-------------------------+\n",
            "|       4676|   Donna Randolph|        809.9350000000001|\n",
            "|       8995|       Mary Smith|                    808.5|\n",
            "|       1780|      Larry Sharp|        785.6977777777778|\n",
            "|       9371|   Mary Patterson|        774.9191666666667|\n",
            "|       7954|   Danielle Smith|        771.0211111111112|\n",
            "|        664|    Bobby Jimenez|        763.1145454545455|\n",
            "|      10175|   Michael Gibson|        755.4622222222222|\n",
            "|      10447|       Mary Smith|        746.1925000000001|\n",
            "|       8948|    Russell Smith|        718.4628571428572|\n",
            "|       8522|       Mary Smith|        711.0466666666666|\n",
            "|        562|       Mary Smith|                  699.965|\n",
            "|       5952|      Jacob Smith|        699.9433333333334|\n",
            "|       2773|       Linda Hale|        699.9300000000001|\n",
            "|       3468|      Mary Romero|        698.4957142857144|\n",
            "|       9490|       Mary Glass|        698.4239999999999|\n",
            "|       9271|Christopher Smith|        696.8409090909091|\n",
            "|        749|   Jesse Matthews|        695.3981818181818|\n",
            "|      10926|       Mary Smith|                  681.918|\n",
            "|      10761|      David Smith|        681.6122222222222|\n",
            "|       1636|   Julie Petersen|        681.0255555555555|\n",
            "+-----------+-----------------+-------------------------+\n",
            "only showing top 20 rows\n",
            "\n"
          ]
        }
      ]
    }
  ]
}